{
  "nbformat": 4,
  "nbformat_minor": 0,
  "metadata": {
    "colab": {
      "provenance": []
    },
    "kernelspec": {
      "name": "python3",
      "display_name": "Python 3"
    },
    "language_info": {
      "name": "python"
    }
  },
  "cells": [
    {
      "cell_type": "markdown",
      "source": [
        "Data preparation"
      ],
      "metadata": {
        "id": "eApco4EVBKLO"
      }
    },
    {
      "cell_type": "code",
      "execution_count": 33,
      "metadata": {
        "colab": {
          "base_uri": "https://localhost:8080/"
        },
        "id": "dMeWuo8F1jft",
        "outputId": "4afd85f4-74b8-4374-f988-cff43eb9c287"
      },
      "outputs": [
        {
          "output_type": "stream",
          "name": "stdout",
          "text": [
            "['11037294', 'JA371270', '03/18/2015 12:00:00 PM', '0000X W WACKER DR', '1153', 'DECEPTIVE PRACTICE', 'FINANCIAL IDENTITY THEFT OVER $ 300', 'BANK', 'false', 'false', '0111', '001', '42', '32', '11', '', '', '2015', '08/01/2017 03:52:26 PM', '', '', '']\n",
            "['11646293', 'JC213749', '12/20/2018 03:00:00 PM', '023XX N LOCKWOOD AVE', '1154', 'DECEPTIVE PRACTICE', 'FINANCIAL IDENTITY THEFT $300 AND UNDER', 'APARTMENT', 'false', 'false', '2515', '025', '36', '19', '11', '', '', '2018', '04/06/2019 04:04:43 PM', '', '', '']\n",
            "['11645836', 'JC212333', '05/01/2016 12:25:00 AM', '055XX S ROCKWELL ST', '1153', 'DECEPTIVE PRACTICE', 'FINANCIAL IDENTITY THEFT OVER $ 300', '', 'false', 'false', '0824', '008', '15', '63', '11', '', '', '2016', '04/06/2019 04:04:43 PM', '', '', '']\n",
            "['11645959', 'JC211511', '12/20/2018 04:00:00 PM', '045XX N ALBANY AVE', '2820', 'OTHER OFFENSE', 'TELEPHONE THREAT', 'RESIDENCE', 'false', 'false', '1724', '017', '33', '14', '08A', '', '', '2018', '04/06/2019 04:04:43 PM', '', '', '']\n",
            "['11645601', 'JC212935', '06/01/2014 12:01:00 AM', '087XX S SANGAMON ST', '1153', 'DECEPTIVE PRACTICE', 'FINANCIAL IDENTITY THEFT OVER $ 300', 'RESIDENCE', 'false', 'false', '2222', '022', '21', '71', '11', '', '', '2014', '04/06/2019 04:04:43 PM', '', '', '']\n"
          ]
        }
      ],
      "source": [
        "from pyspark import SparkContext\n",
        "sc = SparkContext.getOrCreate()\n",
        "\n",
        "data_rdd = sc.textFile(\"sample_data/Crimes_-_2001_to_Present.csv\")\n",
        "split_data_rdd = data_rdd.map(lambda line: line.split(\",\"))\n",
        "header = split_data_rdd.first()\n",
        "data_rdd = split_data_rdd.filter(lambda row: row != header)\n",
        "for row in data_rdd.take(5):\n",
        "    print(row)\n"
      ]
    },
    {
      "cell_type": "markdown",
      "source": [
        "Analyze\n"
      ],
      "metadata": {
        "id": "rAk9DYuhBM0_"
      }
    },
    {
      "cell_type": "code",
      "source": [
        "# Count the occurrences of each primary type\n",
        "primary_types_rdd = data_rdd.map(lambda row: row[5])\n",
        "primary_type_counts = primary_types_rdd.map(lambda x: (x, 1)).reduceByKey(lambda x, y: x + y)\n",
        "\n",
        "# Get the top 10 most frequent primary types\n",
        "top_primary_types = primary_type_counts.takeOrdered(10, key=lambda x: -x[1])\n",
        "\n",
        "print(\"Top 10 Primary Types:\")\n",
        "for primary_type, count in top_primary_types:\n",
        "    print(primary_type, \":\", count)\n"
      ],
      "metadata": {
        "colab": {
          "base_uri": "https://localhost:8080/"
        },
        "id": "WawIEazpA2gm",
        "outputId": "e71ab381-1702-424e-e272-2ab12e0adeb2"
      },
      "execution_count": 34,
      "outputs": [
        {
          "output_type": "stream",
          "name": "stdout",
          "text": [
            "Top 10 Primary Types:\n",
            "THEFT : 2751\n",
            "BATTERY : 2358\n",
            "CRIMINAL DAMAGE : 1542\n",
            "DECEPTIVE PRACTICE : 1162\n",
            "ASSAULT : 1027\n",
            "MOTOR VEHICLE THEFT : 795\n",
            "OTHER OFFENSE : 785\n",
            "NARCOTICS : 691\n",
            "BURGLARY : 539\n",
            "ROBBERY : 526\n"
          ]
        }
      ]
    },
    {
      "cell_type": "code",
      "source": [
        "# Filter the dataset to include only crimes from the year 2023\n",
        "crimes_2023_rdd = data_rdd.filter(lambda row: len(row) > 17 and row[17] == '2023')\n",
        "\n",
        "# Extract the Location Description field (assuming it's at index 7)\n",
        "location_description_rdd = crimes_2023_rdd.map(lambda row: (row[7], 1) if len(row) > 7 else ('Unknown', 1))\n",
        "\n",
        "# Count the occurrences of each location description\n",
        "crime_count_by_location = location_description_rdd.reduceByKey(lambda x, y: x + y)\n",
        "\n",
        "# Sort the result by the count in descending order\n",
        "sorted_crime_count_by_location = crime_count_by_location.sortBy(lambda x: x[1], ascending=False)\n",
        "\n",
        "# Collect the results\n",
        "location_counts = sorted_crime_count_by_location.collect()\n",
        "\n",
        "# Print the count of crimes for each unique location\n",
        "for location, count in location_counts:\n",
        "    print(f\"Location: {location}, Crime Count: {count}\")\n"
      ],
      "metadata": {
        "colab": {
          "base_uri": "https://localhost:8080/"
        },
        "id": "1XdiJgdoApaW",
        "outputId": "48b3b23d-e4e3-4fe4-f388-9ae72f66948f"
      },
      "execution_count": 35,
      "outputs": [
        {
          "output_type": "stream",
          "name": "stdout",
          "text": [
            "Location: STREET, Crime Count: 1457\n",
            "Location: APARTMENT, Crime Count: 982\n",
            "Location: RESIDENCE, Crime Count: 655\n",
            "Location: SIDEWALK, Crime Count: 262\n",
            "Location: PARKING LOT / GARAGE (NON RESIDENTIAL), Crime Count: 199\n",
            "Location: SMALL RETAIL STORE, Crime Count: 131\n",
            "Location: ALLEY, Crime Count: 118\n",
            "Location: RESTAURANT, Crime Count: 93\n",
            "Location: GAS STATION, Crime Count: 72\n",
            "Location: OTHER (SPECIFY), Crime Count: 70\n",
            "Location: RESIDENCE - YARD (FRONT / BACK), Crime Count: 69\n",
            "Location: RESIDENCE - GARAGE, Crime Count: 66\n",
            "Location: DEPARTMENT STORE, Crime Count: 65\n",
            "Location: VEHICLE NON-COMMERCIAL, Crime Count: 62\n",
            "Location: COMMERCIAL / BUSINESS OFFICE, Crime Count: 59\n",
            "Location: RESIDENCE - PORCH / HALLWAY, Crime Count: 59\n",
            "Location: PARK PROPERTY, Crime Count: 52\n",
            "Location: GROCERY FOOD STORE, Crime Count: 51\n",
            "Location: SCHOOL - PUBLIC GROUNDS, Crime Count: 43\n",
            "Location: SCHOOL - PUBLIC BUILDING, Crime Count: 41\n",
            "Location: BAR OR TAVERN, Crime Count: 38\n",
            "Location: CTA TRAIN, Crime Count: 28\n",
            "Location: CONVENIENCE STORE, Crime Count: 26\n",
            "Location: NURSING / RETIREMENT HOME, Crime Count: 24\n",
            "Location: CTA BUS, Crime Count: 24\n",
            "Location: DRUG STORE, Crime Count: 24\n",
            "Location: HOSPITAL BUILDING / GROUNDS, Crime Count: 23\n",
            "Location: HOTEL / MOTEL, Crime Count: 20\n",
            "Location: BANK, Crime Count: 18\n",
            "Location: POLICE FACILITY / VEHICLE PARKING LOT, Crime Count: 17\n",
            "Location: , Crime Count: 15\n",
            "Location: VACANT LOT / LAND, Crime Count: 15\n",
            "Location: CTA PLATFORM, Crime Count: 14\n",
            "Location: DRIVEWAY - RESIDENTIAL, Crime Count: 14\n",
            "Location: TAVERN / LIQUOR STORE, Crime Count: 12\n",
            "Location: GOVERNMENT BUILDING / PROPERTY, Crime Count: 11\n",
            "Location: CTA BUS STOP, Crime Count: 10\n",
            "Location: CHURCH / SYNAGOGUE / PLACE OF WORSHIP, Crime Count: 9\n",
            "Location: CHA PARKING LOT / GROUNDS, Crime Count: 9\n",
            "Location: AIRPORT TERMINAL UPPER LEVEL - SECURE AREA, Crime Count: 9\n",
            "Location: CTA STATION, Crime Count: 9\n",
            "Location: SCHOOL - PRIVATE BUILDING, Crime Count: 9\n",
            "Location: MEDICAL / DENTAL OFFICE, Crime Count: 8\n",
            "Location: CHA APARTMENT, Crime Count: 7\n",
            "Location: SPORTS ARENA / STADIUM, Crime Count: 7\n",
            "Location: CONSTRUCTION SITE, Crime Count: 6\n",
            "Location: AUTO / BOAT / RV DEALERSHIP, Crime Count: 6\n",
            "Location: WAREHOUSE, Crime Count: 5\n",
            "Location: CHA HALLWAY / STAIRWELL / ELEVATOR, Crime Count: 5\n",
            "Location: ATM (AUTOMATIC TELLER MACHINE), Crime Count: 5\n",
            "Location: ATHLETIC CLUB, Crime Count: 5\n",
            "Location: VEHICLE - COMMERCIAL, Crime Count: 5\n",
            "Location: CURRENCY EXCHANGE, Crime Count: 4\n",
            "Location: BARBERSHOP, Crime Count: 4\n",
            "Location: OTHER COMMERCIAL TRANSPORTATION, Crime Count: 4\n",
            "Location: CTA PARKING LOT / GARAGE / OTHER PROPERTY, Crime Count: 4\n",
            "Location: CAR WASH, Crime Count: 4\n",
            "Location: TAXICAB, Crime Count: 4\n",
            "Location: AIRPORT PARKING LOT, Crime Count: 4\n",
            "Location: LAKEFRONT / WATERFRONT / RIVERBANK, Crime Count: 3\n",
            "Location: SCHOOL - PRIVATE GROUNDS, Crime Count: 3\n",
            "Location: AIRPORT TERMINAL LOWER LEVEL - SECURE AREA, Crime Count: 3\n",
            "Location: AIRPORT TERMINAL LOWER LEVEL - NON-SECURE AREA, Crime Count: 3\n",
            "Location: APPLIANCE STORE, Crime Count: 2\n",
            "Location: AIRPORT TERMINAL UPPER LEVEL - NON-SECURE AREA, Crime Count: 2\n",
            "Location: CEMETARY, Crime Count: 2\n",
            "Location: COLLEGE / UNIVERSITY - GROUNDS, Crime Count: 2\n",
            "Location: LIBRARY, Crime Count: 2\n",
            "Location: COLLEGE / UNIVERSITY - RESIDENCE HALL, Crime Count: 2\n",
            "Location: HIGHWAY / EXPRESSWAY, Crime Count: 2\n",
            "Location: CTA TRACKS - RIGHT OF WAY, Crime Count: 1\n",
            "Location: BOAT / WATERCRAFT, Crime Count: 1\n",
            "Location: ANIMAL HOSPITAL, Crime Count: 1\n",
            "Location: AIRPORT BUILDING NON-TERMINAL - SECURE AREA, Crime Count: 1\n",
            "Location: FACTORY / MANUFACTURING BUILDING, Crime Count: 1\n",
            "Location: FEDERAL BUILDING, Crime Count: 1\n",
            "Location: VEHICLE - DELIVERY TRUCK, Crime Count: 1\n",
            "Location: HALLWAY, Crime Count: 1\n",
            "Location: AIRPORT BUILDING NON-TERMINAL - NON-SECURE AREA, Crime Count: 1\n",
            "Location: ABANDONED BUILDING, Crime Count: 1\n",
            "Location: GAS STATION DRIVE/PROP., Crime Count: 1\n",
            "Location: MOVIE HOUSE / THEATER, Crime Count: 1\n",
            "Location: DAY CARE CENTER, Crime Count: 1\n",
            "Location: HOUSE, Crime Count: 1\n",
            "Location: PAWN SHOP, Crime Count: 1\n",
            "Location: CREDIT UNION, Crime Count: 1\n",
            "Location: AIRCRAFT, Crime Count: 1\n"
          ]
        }
      ]
    },
    {
      "cell_type": "code",
      "source": [
        "# Extract the number of crimes per district\n",
        "crime_counts_by_district = data_rdd.map(lambda row: (row[11], 1) if len(row) > 11 else ('Unknown', 1))\n",
        "\n",
        "# Reduce by key to count the total number of crimes in each district\n",
        "total_crimes_by_district = crime_counts_by_district.reduceByKey(lambda x, y: x + y)\n",
        "\n",
        "crime_counts = total_crimes_by_district.map(lambda x: x[1])\n",
        "\n",
        "# Calculate mean and standard deviation\n",
        "mean_crime_count = crime_counts.mean()\n",
        "std_dev_crime_count = crime_counts.stdev()\n",
        "\n",
        "print(\"Mean Crime Count per District:\", mean_crime_count)\n",
        "print(\"Standard Deviation of Crime Count per District:\", std_dev_crime_count)\n"
      ],
      "metadata": {
        "colab": {
          "base_uri": "https://localhost:8080/"
        },
        "id": "M6RJ9d3uBhlL",
        "outputId": "c5447b7c-4323-4882-ff37-66cbf4fa9019"
      },
      "execution_count": 38,
      "outputs": [
        {
          "output_type": "stream",
          "name": "stdout",
          "text": [
            "Mean Crime Count per District: 353.57894736842104\n",
            "Standard Deviation of Crime Count per District: 309.65758946727186\n"
          ]
        }
      ]
    }
  ]
}